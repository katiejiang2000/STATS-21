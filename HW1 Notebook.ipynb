{
 "cells": [
  {
   "cell_type": "markdown",
   "metadata": {},
   "source": [
    "# Stats 21: Homework 1\n",
    "## Kathleen Jiang\n",
    "\n",
    "I've started the homework file for you. You'll need to fill in the rest with your answers.\n",
    "My encouragement is to use the keyboard shortcuts as much as possible and use the mouse as little as possible while working the Jupyter Notebook.\n",
    "\n",
    "After you complete the homework with your answers, go to the menu and choose Kernel > Restart & Run All. Go through the document to **make sure all requested output is visible**. You will not get credit for problems where the requested output is not visible, even if the function you coded is correct.\n",
    "\n",
    "When you are satisfied with the output, choose File > Download As ... > PDF, or choose HTML. Submit the PDF or HTML file to CCLE."
   ]
  },
  {
   "cell_type": "markdown",
   "metadata": {},
   "source": [
    "# Problem 1"
   ]
  },
  {
   "cell_type": "markdown",
   "metadata": {},
   "source": [
    "(A) In a print statement, what happens if you leave out one of the parentheses, or both? What kind of error messages does Python produce for these mistakes?\n",
    "\n",
    "**Answer:** If you leave out a parenthesis, Python detects a syntax error, and the code will not execute. If you leave out both parentheses, Python will produce a message that says \"Missing parentheses in call to 'print'.\" If you leave out one parenthesis, Python will produce a message that says \"unexpected EOF\" or \"invalid syntax.\""
   ]
  },
  {
   "cell_type": "markdown",
   "metadata": {},
   "source": [
    "(B) If you are trying to print a string, what happens if you leave out one of the quotation marks, or both? What kind of error messages does Python produce for these mistakes?\n",
    "\n",
    "**Answer:** If you leave out the opening quotation mark, Python mistakenly reads the string as variable names. Therefore, the code will not execute if Python can't find variables with the names we supplied. The error messages say \"invalid syntax\" or \"name is not defined\". If you leave out the closing quotation mark, Python will detect that your string is unfinished and produce an error message that says \"EOL when scanning string literal.\""
   ]
  },
  {
   "cell_type": "markdown",
   "metadata": {},
   "source": [
    "(C) You can use a minus sign to make a negative number like -2. Explain what happens if you put a plus sign before a number, like +2. Explain what happens if you put several + or - operators in a row. Do spaces make a difference here?\n",
    "\n",
    "**Answer:** Spaces do not make a difference here. Python will read the operators as if the spaces were not there. When you put several + or - operators in a row, Python will evaluate `+ -` and `- +` as `-`, and `++` and `--` as `+`. Something like `3 - - - - - 2` has five minus signs, so it will return the same value as `3 - 2`. Something like `3-*-2` will throw an \"invalid syntax\" error because Python expects a number to follow the first `-` it reads."
   ]
  },
  {
   "cell_type": "markdown",
   "metadata": {},
   "source": [
    "(D) In math notation, leading zeros are ok, as in `09`. What happens if you try this in Python? What about `011`?\n",
    "\n",
    "**Answer**: It appears Python does not accept leading zeros because numbers (including integers) are stored as the values themselves, which don't include leading zeros. Numbers are stored as binary representations, which sum up to the value itself and don't include those leading zeros."
   ]
  },
  {
   "cell_type": "markdown",
   "metadata": {},
   "source": [
    "(E) Explain what happens if you have two values with no operator between them, like `3 2`.\n",
    "\n",
    "**Answer**: Python throws an \"invalid syntax\" error because it does not know how to read this line. It expects an operator between the two values."
   ]
  },
  {
   "cell_type": "markdown",
   "metadata": {},
   "source": [
    "# Problem 2\n",
    "Use Python as a calculator. Enter the appropriate calculation in a cell and be sure the output value is visible."
   ]
  },
  {
   "cell_type": "markdown",
   "metadata": {},
   "source": [
    "(A) How many seconds are there in 42 minutes 42 seconds?"
   ]
  },
  {
   "cell_type": "code",
   "execution_count": 1,
   "metadata": {},
   "outputs": [
    {
     "data": {
      "text/plain": [
       "2562"
      ]
     },
     "execution_count": 1,
     "metadata": {},
     "output_type": "execute_result"
    }
   ],
   "source": [
    "(42 * 60) + 42"
   ]
  },
  {
   "cell_type": "markdown",
   "metadata": {},
   "source": [
    "(B) There are 1.61 kilometers in a mile. How many miles are there in 10 kilometers?"
   ]
  },
  {
   "cell_type": "code",
   "execution_count": 2,
   "metadata": {},
   "outputs": [
    {
     "data": {
      "text/plain": [
       "6.211180124223602"
      ]
     },
     "execution_count": 2,
     "metadata": {},
     "output_type": "execute_result"
    }
   ],
   "source": [
    "10 / 1.61"
   ]
  },
  {
   "cell_type": "markdown",
   "metadata": {},
   "source": [
    "(C) If you run a 10 kilometer race in 42 minutes 42 seconds, what is your average 1-mile pace (time to complete 1 mile in minutes and seconds)? What is your average speed in miles per hour?"
   ]
  },
  {
   "cell_type": "code",
   "execution_count": 3,
   "metadata": {},
   "outputs": [
    {
     "name": "stdout",
     "output_type": "stream",
     "text": [
      "Average 1-mile pace is 6 minutes and 52 seconds.\n",
      "Average speed is 8.73 miles per hour.\n"
     ]
    }
   ],
   "source": [
    "timeInSec = 42 * 60 + 42\n",
    "distInMi = 10 / 1.61\n",
    "\n",
    "# Average 1-mile pace\n",
    "minPerMi = timeInSec / 10 * 1.61 / 60 # Minutes per mile\n",
    "extraSeconds = round((minPerMi - int(minPerMi)) * 60) # Additional seconds\n",
    "minPerMi = int(minPerMi) # Now we can truncate minutes per mile, because the values after the decimal are already accounted for in extraSeconds\n",
    "print('Average 1-mile pace is ' + str(minPerMi) + ' minutes and ' + str(extraSeconds) + ' seconds.')\n",
    "\n",
    "# Average speed in miles per hour\n",
    "print('Average speed is ' + str(round(distInMi / timeInSec * 60 * 60, 2)) + ' miles per hour.')"
   ]
  },
  {
   "cell_type": "markdown",
   "metadata": {},
   "source": [
    "# Problem 3\n",
    "Try more operations in your Jupyter Notebook to answer the following questions. When appropriate make sure the output value is visible."
   ]
  },
  {
   "cell_type": "markdown",
   "metadata": {},
   "source": [
    "(A) We’ve seen that n = 42 is legal. What about 42 = n? What is the error message?\n",
    "\n",
    "**Answer**: The error message is \"can't assign to literal.\" You cannot assign a value to `42`, which is already an integer value. Also, `n` does not refer to any previously defined value, so it does not make sense."
   ]
  },
  {
   "cell_type": "markdown",
   "metadata": {},
   "source": [
    "(B) Is the following a legal statement? x = y = 1\n",
    "\n",
    "**Answer**: Yes. The value `1` will be assigned to both `x` and `y`."
   ]
  },
  {
   "cell_type": "markdown",
   "metadata": {},
   "source": [
    "(C) In some languages every statement ends with a semi-colon ;. What happens if you put a semi-colon at the end of a Python statement? What function do semi-colons serve in Python?\n",
    "\n",
    "**Answer**: It appears that if you put a semi-colon at the end of a Python statement, its output will be hidden. In Python, semi-colons serve to separate commands on the same line, for example `print('hello'); print('world')`. This saves space and is useful for organizing code."
   ]
  },
  {
   "cell_type": "markdown",
   "metadata": {},
   "source": [
    "(D) What happens if you put a period at the end of a statement?\n",
    "\n",
    "**Answer**: Usually, this will throw an \"invalid syntax\" error, except when putting it after a number, which turns that number into a float."
   ]
  },
  {
   "cell_type": "markdown",
   "metadata": {},
   "source": [
    "(E) Explain the difference between the following two lines:\n",
    "* `n = 42`\n",
    "* `n = 42.`\n",
    "\n",
    "**Answer**: In the first line, we are assigning an integer `42` to `n`, while in the second line, we are assigning a float that's equivalent to `42.0` to `n`."
   ]
  },
  {
   "cell_type": "markdown",
   "metadata": {},
   "source": [
    "# Problem 4\n",
    "Write functions for the following problems."
   ]
  },
  {
   "cell_type": "markdown",
   "metadata": {},
   "source": [
    "(A) The volume of a sphere with radius r is (4/3)πr^3. Write a function `sphere_volume(r)` that will accept a radius as an argument and return the volume.\n",
    "\n",
    "Use the function to find the volume of a sphere with radius 5.\n",
    "\n",
    "Use the function to find the volume of a sphere with radius 15."
   ]
  },
  {
   "cell_type": "code",
   "execution_count": 4,
   "metadata": {},
   "outputs": [
    {
     "name": "stdout",
     "output_type": "stream",
     "text": [
      "The volume of a sphere with radius 5 is 523.5987755982989\n",
      "The volume of a sphere with radius 15 is 14137.166941154068\n"
     ]
    }
   ],
   "source": [
    "import math\n",
    "def sphere_volume(r):\n",
    "    return (4/3) * math.pi * (r ** 3)\n",
    "\n",
    "print('The volume of a sphere with radius 5 is ' + str(sphere_volume(5)))\n",
    "print('The volume of a sphere with radius 15 is ' + str(sphere_volume(15)))"
   ]
  },
  {
   "cell_type": "markdown",
   "metadata": {},
   "source": [
    "(B) Suppose the cover price of a book is 24.95 dollars, but bookstores get a 40% discount. Shipping costs 3 dollars for the first copy and 75 cents for each additional copy. Write a function `wholesale_cost(books)` that accepts an argument for the number of books and will return the total cost of the books plus shipping.\n",
    "\n",
    "Use the function to find the total wholesale cost for 60 copies. \n",
    "\n",
    "Use the function to find the total wholesale cost for 10 copies."
   ]
  },
  {
   "cell_type": "code",
   "execution_count": 5,
   "metadata": {},
   "outputs": [
    {
     "name": "stdout",
     "output_type": "stream",
     "text": [
      "The total wholesale cost for 60 copies is $945.45\n",
      "The total wholesale cost for 10 copies is $159.45\n"
     ]
    }
   ],
   "source": [
    "def wholesale_cost(books):\n",
    "    subtotal = 24.95 * 0.6 * books\n",
    "    shipping = 3 + 0.75 * (books - 1)\n",
    "    return subtotal + shipping\n",
    "\n",
    "print('The total wholesale cost for 60 copies is $' + str(round(wholesale_cost(60), 2)))\n",
    "print('The total wholesale cost for 10 copies is $' + str(round(wholesale_cost(10), 2)))"
   ]
  },
  {
   "cell_type": "markdown",
   "metadata": {},
   "source": [
    "(C) A person runs several miles. The first and last miles are run at an ’easy’ pace. Other than the first and last miles, the other miles are at a faster pace.\n",
    "\n",
    "Write a function `run_time(miles, warm_pace, fast_pace)` to calculate the time the runner will take. The function accepts three input arguments: how many miles the runner travels (minimum value is 2), the warm-up and cool-down pace, the fast pace. The function will print the time in the format `minutes:seconds`, and will return a tuple of values: `(minutes, seconds)`\n",
    "\n",
    "Use the function to find the time to run a total of 5 miles. The warm-up pace is 8:15 per mile. The speed pace is 7:12 per mile.\n",
    "\n",
    "For now, you can call the function using:\n",
    "`run_time(miles = 5, warm_pace = 495, fast_pace = 432)`"
   ]
  },
  {
   "cell_type": "code",
   "execution_count": 6,
   "metadata": {},
   "outputs": [
    {
     "name": "stdout",
     "output_type": "stream",
     "text": [
      "38:06\n"
     ]
    },
    {
     "data": {
      "text/plain": [
       "(38, 6)"
      ]
     },
     "execution_count": 6,
     "metadata": {},
     "output_type": "execute_result"
    }
   ],
   "source": [
    "def run_time(miles, warm_pace, fast_pace):\n",
    "    total_seconds = (warm_pace * 2) + (fast_pace * (miles - 2))\n",
    "    minutes_decimal = total_seconds / 60\n",
    "    minutes = int(minutes_decimal)\n",
    "    seconds = round((minutes_decimal - minutes) * 60)\n",
    "    if seconds < 10:\n",
    "        print(str(minutes) + ':0' + str(seconds))\n",
    "    else:\n",
    "        print(str(minutes) + ':' + str(seconds))\n",
    "    return minutes, seconds\n",
    "\n",
    "run_time(miles = 5, warm_pace = 495, fast_pace = 432)"
   ]
  },
  {
   "cell_type": "code",
   "execution_count": 7,
   "metadata": {},
   "outputs": [
    {
     "name": "stdout",
     "output_type": "stream",
     "text": [
      "38:06\n"
     ]
    },
    {
     "data": {
      "text/plain": [
       "(38, 6)"
      ]
     },
     "execution_count": 7,
     "metadata": {},
     "output_type": "execute_result"
    }
   ],
   "source": [
    "# Modifying the function so that it can be made with minutes and seconds\n",
    "def run_time(miles, warm_pace, fast_pace):\n",
    "    warm_pace_list = warm_pace.split(\":\")\n",
    "    warm_pace_sec = (int(warm_pace_list[0]) * 60) + int(warm_pace_list[1])\n",
    "    fast_pace_list = fast_pace.split(\":\")\n",
    "    fast_pace_sec = (int(fast_pace_list[0]) * 60) + int(fast_pace_list[1])\n",
    "    total_seconds = (warm_pace_sec * 2) + (fast_pace_sec * (miles - 2))\n",
    "    minutes_decimal = total_seconds / 60\n",
    "    minutes = int(minutes_decimal)\n",
    "    seconds = round((minutes_decimal - minutes) * 60)\n",
    "    if seconds < 10:\n",
    "        print(str(minutes) + ':0' + str(seconds))\n",
    "    else:\n",
    "        print(str(minutes) + ':' + str(seconds))\n",
    "    return minutes, seconds\n",
    "    \n",
    "run_time(5, \"8:15\", \"7:12\")"
   ]
  },
  {
   "cell_type": "markdown",
   "metadata": {},
   "source": [
    "# Problem 5\n",
    "You can use import math to gain access to math functions.\n",
    "\n",
    "Create a function `polar(real, imaginary)` that will return the polar coordinates of a complex number. The input arguments are the real and imaginary components of a complex number. The function will return a tuple of values: the value of the radius r and the angle theta."
   ]
  },
  {
   "cell_type": "code",
   "execution_count": 8,
   "metadata": {},
   "outputs": [
    {
     "name": "stdout",
     "output_type": "stream",
     "text": [
      "1 + i in polar coordinates is (1.4142135623730951, 0.7853981633974483)\n",
      "-2 - 3i in polar coordinates is (3.605551275463989, 0.982793723247329)\n",
      "4 + 2i in polar coordinates is (4.47213595499958, 0.46364760900080615)\n"
     ]
    }
   ],
   "source": [
    "import math\n",
    "def polar(real, imaginary):\n",
    "    r = math.sqrt(real ** 2 + imaginary ** 2)\n",
    "    theta = math.atan(imaginary / real)\n",
    "    return r, theta\n",
    "\n",
    "print('1 + i in polar coordinates is ' + str(polar(1, 1)))\n",
    "print('-2 - 3i in polar coordinates is ' + str(polar(-2, -3)))\n",
    "print('4 + 2i in polar coordinates is ' + str(polar(4, 2)))"
   ]
  }
 ],
 "metadata": {
  "kernelspec": {
   "display_name": "Python 3",
   "language": "python",
   "name": "python3"
  },
  "language_info": {
   "codemirror_mode": {
    "name": "ipython",
    "version": 3
   },
   "file_extension": ".py",
   "mimetype": "text/x-python",
   "name": "python",
   "nbconvert_exporter": "python",
   "pygments_lexer": "ipython3",
   "version": "3.7.3"
  }
 },
 "nbformat": 4,
 "nbformat_minor": 4
}

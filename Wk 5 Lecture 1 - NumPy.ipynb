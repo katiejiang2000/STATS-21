{
 "cells": [
  {
   "cell_type": "markdown",
   "metadata": {},
   "source": [
    "Quiz answers\n",
    "1. D as in dog\n",
    "2. A as in apple"
   ]
  },
  {
   "cell_type": "code",
   "execution_count": 1,
   "metadata": {},
   "outputs": [],
   "source": [
    "import numpy as np # Convention is to name it np"
   ]
  },
  {
   "cell_type": "markdown",
   "metadata": {},
   "source": [
    "# Numpy arrays\n",
    "\n",
    "* Mutable\n",
    "* No mixed types allowed\n",
    "* `np.array([your list here])` to create an array\n",
    "* **Upcasting**: If you mix data types in an array, the values of the more restrictive types will get upcast to the value of the less restrictive type.\n",
    "    * Like coercion in R\n",
    "    * eg. mixed ints and floats -> ints will get coerced/upcast into floats"
   ]
  },
  {
   "cell_type": "markdown",
   "metadata": {},
   "source": [
    "## Multi-dimensional arrays\n",
    "\n",
    "* `np.array(list of lists)`\n",
    "* Number of opening square brackets = number of dimensions.\n",
    "* The lists must be the same length. If the dimensions don't match, you get an array of lists, which is not useful."
   ]
  },
  {
   "cell_type": "markdown",
   "metadata": {},
   "source": [
    "## Other ways to make arrays\n",
    "\n",
    "* `np.zeros(# of zeros you want)` creates an array filled with 0s.\n",
    "    * You can also pass a tuple as the argument, which specifies the number of rows and number of columns. `np.zeros((# of rows, # of columns))\n",
    "        * You could pass a tuple with 3 elements as the argument, with the first element specifying # of sheets. `np.zeros((# of sheets, # of rows, # of columns))`\n",
    "* `np.ones(# of ones you want)` does the same thing but with ones.\n",
    "* `np.full((# of rows, # of cols), value)` creates an array with the specified dimensions, filled with the specified value.\n",
    "* `np.random.random(# of values you want)` creates an array of random numbers from \\[0, 1).\n",
    "    * Set the seed first with `np.random.seed(#)`.\n",
    "    * NumPy has its own random generator. All random generator functions begin with `np.random.`\n",
    "* `np.random.randint(start, end, # of values)`, with end exclusive."
   ]
  },
  {
   "cell_type": "markdown",
   "metadata": {},
   "source": [
    "## Array sequences\n",
    "* `np.arange(start, stop step)` returns an array of values as specified.\n",
    "    * `.dim` returns the number of rows in the array.\n",
    "    * `.shape` returns the number of columns in the array.\n",
    "* `np.linspace(start, stop, num)`\n",
    "    * Optional parameter endpoint = bool to specify whether you wanna include the endpoint."
   ]
  },
  {
   "cell_type": "code",
   "execution_count": 2,
   "metadata": {},
   "outputs": [
    {
     "name": "stdout",
     "output_type": "stream",
     "text": [
      "1\n",
      "(12,)\n"
     ]
    }
   ],
   "source": [
    "y = np.arange(0, 12, 1)\n",
    "print(y.ndim)\n",
    "print(y.shape)"
   ]
  },
  {
   "cell_type": "markdown",
   "metadata": {},
   "source": [
    "## Reshaping arrays\n",
    "* `np.reshape(array, [new shape])` returns a new array that is reshaped.\n",
    "* `array.reshape(shape)` also works.\n",
    "* `array.T` is the transpose method, but leaves the original array unaffected.\n",
    "    * Doesn't work on 1D arrays. It'll just be the same. Workaround: convert the 1D array into a 2D array of just one row/column/etc., and then apply `array.T`.\n",
    "\n",
    "* Methods that return new arrays and leave the original ones unaffected can be chained."
   ]
  },
  {
   "cell_type": "code",
   "execution_count": 3,
   "metadata": {},
   "outputs": [
    {
     "data": {
      "text/plain": [
       "array([[ 0,  4,  8],\n",
       "       [ 1,  5,  9],\n",
       "       [ 2,  6, 10],\n",
       "       [ 3,  7, 11]])"
      ]
     },
     "execution_count": 3,
     "metadata": {},
     "output_type": "execute_result"
    }
   ],
   "source": [
    "np.arange(0,12,1).reshape((3,4)).T"
   ]
  },
  {
   "cell_type": "markdown",
   "metadata": {},
   "source": [
    "## Subsetting/Slicing Arrays\n",
    "\n",
    "* Similar to lists.\n",
    "* For multi-dimensional arrays, use a column to separate subsetting instructions for each dimension."
   ]
  },
  {
   "cell_type": "code",
   "execution_count": 24,
   "metadata": {},
   "outputs": [
    {
     "data": {
      "text/plain": [
       "array([[1, 2],\n",
       "       [3, 4]])"
      ]
     },
     "execution_count": 24,
     "metadata": {},
     "output_type": "execute_result"
    }
   ],
   "source": [
    "a = np.array([[1,2], [3,4]])\n",
    "a"
   ]
  },
  {
   "cell_type": "code",
   "execution_count": 25,
   "metadata": {},
   "outputs": [
    {
     "data": {
      "text/plain": [
       "1"
      ]
     },
     "execution_count": 25,
     "metadata": {},
     "output_type": "execute_result"
    }
   ],
   "source": [
    "a[0,0]"
   ]
  },
  {
   "cell_type": "code",
   "execution_count": 26,
   "metadata": {},
   "outputs": [
    {
     "data": {
      "text/plain": [
       "array([1, 2])"
      ]
     },
     "execution_count": 26,
     "metadata": {},
     "output_type": "execute_result"
    }
   ],
   "source": [
    "a[0,:]"
   ]
  },
  {
   "cell_type": "markdown",
   "metadata": {},
   "source": [
    "* Slices of arrays are view objects, and automatically update (dynamically) if the original array is updated.\n",
    "* To workaround this, use `array.copy()` to create a static copy."
   ]
  },
  {
   "cell_type": "code",
   "execution_count": 27,
   "metadata": {},
   "outputs": [
    {
     "data": {
      "text/plain": [
       "array([[1, 2],\n",
       "       [3, 4]])"
      ]
     },
     "execution_count": 27,
     "metadata": {},
     "output_type": "execute_result"
    }
   ],
   "source": [
    "a"
   ]
  },
  {
   "cell_type": "code",
   "execution_count": 28,
   "metadata": {},
   "outputs": [],
   "source": [
    "a_slice_dynamic = a[0, :]\n",
    "a_slice_static = a[0, :].copy()"
   ]
  },
  {
   "cell_type": "code",
   "execution_count": 29,
   "metadata": {},
   "outputs": [],
   "source": [
    "a[0,0] = 9213123"
   ]
  },
  {
   "cell_type": "code",
   "execution_count": 30,
   "metadata": {},
   "outputs": [
    {
     "data": {
      "text/plain": [
       "array([[9213123,       2],\n",
       "       [      3,       4]])"
      ]
     },
     "execution_count": 30,
     "metadata": {},
     "output_type": "execute_result"
    }
   ],
   "source": [
    "a"
   ]
  },
  {
   "cell_type": "code",
   "execution_count": 31,
   "metadata": {},
   "outputs": [
    {
     "data": {
      "text/plain": [
       "array([9213123,       2])"
      ]
     },
     "execution_count": 31,
     "metadata": {},
     "output_type": "execute_result"
    }
   ],
   "source": [
    "a_slice_dynamic # also updated!"
   ]
  },
  {
   "cell_type": "code",
   "execution_count": 32,
   "metadata": {},
   "outputs": [
    {
     "data": {
      "text/plain": [
       "array([1, 2])"
      ]
     },
     "execution_count": 32,
     "metadata": {},
     "output_type": "execute_result"
    }
   ],
   "source": [
    "a_slice_static # NOT updated."
   ]
  }
 ],
 "metadata": {
  "kernelspec": {
   "display_name": "Python 3",
   "language": "python",
   "name": "python3"
  },
  "language_info": {
   "codemirror_mode": {
    "name": "ipython",
    "version": 3
   },
   "file_extension": ".py",
   "mimetype": "text/x-python",
   "name": "python",
   "nbconvert_exporter": "python",
   "pygments_lexer": "ipython3",
   "version": "3.7.3"
  }
 },
 "nbformat": 4,
 "nbformat_minor": 2
}

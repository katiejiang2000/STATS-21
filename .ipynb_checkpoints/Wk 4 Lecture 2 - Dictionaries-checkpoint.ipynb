{
 "cells": [
  {
   "cell_type": "markdown",
   "metadata": {},
   "source": [
    "Chapter 11 of Think Python."
   ]
  },
  {
   "cell_type": "markdown",
   "metadata": {},
   "source": [
    "# Dictionaries\n",
    "* **Dict**: unordered mapping of keys to values.\n",
    "* Each pair, key:value, is altogether an item.\n",
    "* Similar to a named vector in R.\n",
    "* The normal way to create dicts is with `{}` and `:`, but you can also use the functions `dict(zip())`."
   ]
  },
  {
   "cell_type": "code",
   "execution_count": 1,
   "metadata": {},
   "outputs": [
    {
     "data": {
      "text/plain": [
       "{'katie': 20, 'chandler': 16, 'anita': 50, 'larry': 53}"
      ]
     },
     "execution_count": 1,
     "metadata": {},
     "output_type": "execute_result"
    }
   ],
   "source": [
    "jiangs = {'katie':20, 'chandler':16, 'anita':50, 'larry':53}\n",
    "jiangs"
   ]
  },
  {
   "cell_type": "code",
   "execution_count": 2,
   "metadata": {},
   "outputs": [
    {
     "data": {
      "text/plain": [
       "{'katie': 20, 'chandler': 16, 'anita': 50, 'larry': 43}"
      ]
     },
     "execution_count": 2,
     "metadata": {},
     "output_type": "execute_result"
    }
   ],
   "source": [
    "jiangs2 = dict(zip(['katie', 'chandler', 'anita', 'larry'], (20, 16, 50, 43)))\n",
    "jiangs2"
   ]
  },
  {
   "cell_type": "markdown",
   "metadata": {},
   "source": [
    "## Keys\n",
    "\n",
    "Access values in a dictionary by using the **key**.\n",
    "* Bracket subsetting\n",
    "* `.get(key, your error message)`\n",
    "\n",
    "You cannot subset dictionaries with indices, because dictionaries are unordered.\n",
    "\n",
    "Keys can be mixed types within a dictionary."
   ]
  },
  {
   "cell_type": "code",
   "execution_count": 3,
   "metadata": {},
   "outputs": [
    {
     "data": {
      "text/plain": [
       "20"
      ]
     },
     "execution_count": 3,
     "metadata": {},
     "output_type": "execute_result"
    }
   ],
   "source": [
    "jiangs['katie']"
   ]
  },
  {
   "cell_type": "code",
   "execution_count": 4,
   "metadata": {},
   "outputs": [
    {
     "data": {
      "text/plain": [
       "20"
      ]
     },
     "execution_count": 4,
     "metadata": {},
     "output_type": "execute_result"
    }
   ],
   "source": [
    "jiangs.get('katie')"
   ]
  },
  {
   "cell_type": "code",
   "execution_count": 5,
   "metadata": {},
   "outputs": [
    {
     "ename": "KeyError",
     "evalue": "'norman'",
     "output_type": "error",
     "traceback": [
      "\u001b[0;31m---------------------------------------------------------------------------\u001b[0m",
      "\u001b[0;31mKeyError\u001b[0m                                  Traceback (most recent call last)",
      "\u001b[0;32m<ipython-input-5-66ec9c681695>\u001b[0m in \u001b[0;36m<module>\u001b[0;34m\u001b[0m\n\u001b[0;32m----> 1\u001b[0;31m \u001b[0mjiangs\u001b[0m\u001b[0;34m[\u001b[0m\u001b[0;34m'norman'\u001b[0m\u001b[0;34m]\u001b[0m\u001b[0;34m\u001b[0m\u001b[0;34m\u001b[0m\u001b[0m\n\u001b[0m",
      "\u001b[0;31mKeyError\u001b[0m: 'norman'"
     ]
    }
   ],
   "source": [
    "jiangs['norman']"
   ]
  },
  {
   "cell_type": "code",
   "execution_count": 6,
   "metadata": {},
   "outputs": [
    {
     "data": {
      "text/plain": [
       "'not found'"
      ]
     },
     "execution_count": 6,
     "metadata": {},
     "output_type": "execute_result"
    }
   ],
   "source": [
    "jiangs.get('norman', 'not found') # it'll generate an error message"
   ]
  },
  {
   "cell_type": "code",
   "execution_count": 7,
   "metadata": {},
   "outputs": [
    {
     "data": {
      "text/plain": [
       "{297: ['a', 'b', 'c'], 32: 17}"
      ]
     },
     "execution_count": 7,
     "metadata": {},
     "output_type": "execute_result"
    }
   ],
   "source": [
    "d = {297:['a','b','c'], 32:17}\n",
    "# This is a dictionary with numeric keys. The first value, corresponding to the first key, is actually a list.\n",
    "d"
   ]
  },
  {
   "cell_type": "markdown",
   "metadata": {},
   "source": [
    "## Adding entries\n",
    "* Assign a new value to a new key.\n",
    "* **`dict.update(other dict)`** to add more keys from another dictionary.\n",
    "    * Handles the situation where you try to add a key that already exists.\n",
    "    * Overwrites previous values."
   ]
  },
  {
   "cell_type": "code",
   "execution_count": 8,
   "metadata": {},
   "outputs": [
    {
     "data": {
      "text/plain": [
       "{'katie': 20, 'chandler': 16, 'anita': 50, 'larry': 53, 'goose': 0}"
      ]
     },
     "execution_count": 8,
     "metadata": {},
     "output_type": "execute_result"
    }
   ],
   "source": [
    "# Create a new entry\n",
    "jiangs['goose'] = 0\n",
    "jiangs"
   ]
  },
  {
   "cell_type": "code",
   "execution_count": 9,
   "metadata": {},
   "outputs": [
    {
     "data": {
      "text/plain": [
       "{'katie': 20, 'chandler': 16, 'anita': 50, 'larry': 53, 'goose': 16}"
      ]
     },
     "execution_count": 9,
     "metadata": {},
     "output_type": "execute_result"
    }
   ],
   "source": [
    "# Try to add a new entry with an already existing key\n",
    "jiangs['goose'] = 16\n",
    "jiangs"
   ]
  },
  {
   "cell_type": "code",
   "execution_count": 10,
   "metadata": {},
   "outputs": [
    {
     "data": {
      "text/plain": [
       "{'katie': 20,\n",
       " 'chandler': 16,\n",
       " 'anita': 50,\n",
       " 'larry': 53,\n",
       " 'goose': 16,\n",
       " 'jimmy': 100,\n",
       " 'jennifer': 0}"
      ]
     },
     "execution_count": 10,
     "metadata": {},
     "output_type": "execute_result"
    }
   ],
   "source": [
    "kiddos = {'katie':20, 'chandler':16, 'jimmy':100, 'jennifer':0}\n",
    "jiangs.update(kiddos)\n",
    "jiangs # See how there's no duplicates of 'katie' and 'chandler'."
   ]
  },
  {
   "cell_type": "code",
   "execution_count": 11,
   "metadata": {},
   "outputs": [
    {
     "data": {
      "text/plain": [
       "{'katie': 12,\n",
       " 'chandler': 16,\n",
       " 'anita': 50,\n",
       " 'larry': 53,\n",
       " 'goose': 16,\n",
       " 'jimmy': 100,\n",
       " 'jennifer': 0}"
      ]
     },
     "execution_count": 11,
     "metadata": {},
     "output_type": "execute_result"
    }
   ],
   "source": [
    "wrongstuff = {'katie':12}\n",
    "jiangs.update(wrongstuff)\n",
    "jiangs # See how the 'katie' value (20) was overwritten by 12"
   ]
  },
  {
   "cell_type": "markdown",
   "metadata": {},
   "source": [
    "## `in`\n",
    "The **`in`** operator applies to the keys by default.\n",
    "\n",
    "If you want to check the existence of a value, you'll have to use **`dict.values()`**."
   ]
  },
  {
   "cell_type": "code",
   "execution_count": 12,
   "metadata": {},
   "outputs": [
    {
     "name": "stdout",
     "output_type": "stream",
     "text": [
      "{'katie': 12, 'chandler': 16, 'anita': 50, 'larry': 53, 'goose': 16, 'jimmy': 100, 'jennifer': 0}\n",
      "True\n",
      "False\n",
      "False\n"
     ]
    }
   ],
   "source": [
    "print(jiangs)\n",
    "print('katie' in jiangs) # True, because there is a key named 'katie'.\n",
    "print('20' in jiangs) # False, because there is no key named 20.\n",
    "print('20' in jiangs.values()) # True, because there is the value 20 in jiangs."
   ]
  },
  {
   "cell_type": "markdown",
   "metadata": {},
   "source": [
    "## Removing entries\n",
    "* **`del`**`dict[key]`\n",
    "* **`dict.pop(`**`key)`\n",
    "    * If you don't supply an arg, by default it'll delete the \"last\" element, ie. the most recently added element."
   ]
  },
  {
   "cell_type": "code",
   "execution_count": 13,
   "metadata": {},
   "outputs": [
    {
     "data": {
      "text/plain": [
       "{'katie': 12,\n",
       " 'chandler': 16,\n",
       " 'anita': 50,\n",
       " 'larry': 53,\n",
       " 'jimmy': 100,\n",
       " 'jennifer': 0}"
      ]
     },
     "execution_count": 13,
     "metadata": {},
     "output_type": "execute_result"
    }
   ],
   "source": [
    "# Delete an entry.\n",
    "del jiangs['goose']\n",
    "jiangs"
   ]
  },
  {
   "cell_type": "code",
   "execution_count": 14,
   "metadata": {},
   "outputs": [
    {
     "data": {
      "text/plain": [
       "{'katie': 12,\n",
       " 'chandler': 16,\n",
       " 'anita': 50,\n",
       " 'larry': 53,\n",
       " 'jimmy': 100,\n",
       " 'jennifer': 0}"
      ]
     },
     "execution_count": 14,
     "metadata": {},
     "output_type": "execute_result"
    }
   ],
   "source": [
    "jiangs['goose'] = 0 # Re-add it after last deletion\n",
    "jiangs.pop('goose')\n",
    "jiangs"
   ]
  },
  {
   "cell_type": "markdown",
   "metadata": {},
   "source": [
    "## Dictionary view objects.\n",
    "\n",
    "* **dict.keys()**\n",
    "* **dict.values()**\n",
    "* **dict.items**\n",
    "    * Returns tuples\n",
    "\n",
    "Returns dynamic view objects. It does not return a dict or a list. It returns an object of type \"dynamic view.\"\n",
    "\n",
    "Dynamic -> they update automatically.\n",
    "* You can convert them into lists, but then they lose their dynamic quality.\n",
    "\n",
    "Functions\n",
    "* `len(dynamic view obj)`\n",
    "* `element in dynamic view obj`\n",
    "\n",
    "Within view objects, the keys lose the values that they were associated with."
   ]
  },
  {
   "cell_type": "code",
   "execution_count": 15,
   "metadata": {},
   "outputs": [
    {
     "data": {
      "text/plain": [
       "dict_keys(['katie', 'chandler', 'anita', 'larry', 'jimmy', 'jennifer'])"
      ]
     },
     "execution_count": 15,
     "metadata": {},
     "output_type": "execute_result"
    }
   ],
   "source": [
    "jiangs.keys()"
   ]
  },
  {
   "cell_type": "code",
   "execution_count": 16,
   "metadata": {},
   "outputs": [
    {
     "data": {
      "text/plain": [
       "dict_values([12, 16, 50, 53, 100, 0])"
      ]
     },
     "execution_count": 16,
     "metadata": {},
     "output_type": "execute_result"
    }
   ],
   "source": [
    "jiangs.values()"
   ]
  },
  {
   "cell_type": "code",
   "execution_count": 17,
   "metadata": {},
   "outputs": [
    {
     "data": {
      "text/plain": [
       "dict_items([('katie', 12), ('chandler', 16), ('anita', 50), ('larry', 53), ('jimmy', 100), ('jennifer', 0)])"
      ]
     },
     "execution_count": 17,
     "metadata": {},
     "output_type": "execute_result"
    }
   ],
   "source": [
    "jiangs.items()"
   ]
  },
  {
   "cell_type": "code",
   "execution_count": 18,
   "metadata": {},
   "outputs": [
    {
     "name": "stdout",
     "output_type": "stream",
     "text": [
      "dict_keys(['katie', 'chandler', 'anita', 'larry', 'jimmy', 'jennifer'])\n",
      "dict_keys(['katie', 'chandler', 'anita', 'larry'])\n"
     ]
    }
   ],
   "source": [
    "# Automatically updates, dynamic view object.\n",
    "names = jiangs.keys()\n",
    "print(names)\n",
    "del jiangs['jennifer']; del jiangs['jimmy']\n",
    "print(names) # We didn't have to update names, we only had to update jiangs."
   ]
  },
  {
   "cell_type": "code",
   "execution_count": 19,
   "metadata": {},
   "outputs": [
    {
     "name": "stdout",
     "output_type": "stream",
     "text": [
      "4\n",
      "True\n"
     ]
    }
   ],
   "source": [
    "print(len(names))\n",
    "print('katie' in names)\n",
    "# They kind of work like lists here, even though they aren't true lists."
   ]
  },
  {
   "cell_type": "code",
   "execution_count": 20,
   "metadata": {},
   "outputs": [
    {
     "name": "stdout",
     "output_type": "stream",
     "text": [
      "dict_keys(['katie', 'chandler', 'anita', 'larry'])\n",
      "['katie', 'chandler', 'anita', 'larry']\n",
      "dict_keys(['katie', 'chandler', 'anita', 'larry', 'goose'])\n",
      "dict_keys(['katie', 'chandler', 'anita', 'larry', 'goose'])\n",
      "['katie', 'chandler', 'anita', 'larry']\n"
     ]
    }
   ],
   "source": [
    "# Converting it into a list gets rid of its dynamic quality.\n",
    "names_list = list(names)\n",
    "\n",
    "print(names)\n",
    "print(names_list)\n",
    "\n",
    "jiangs['goose'] = 0 # Adds new entry\n",
    "\n",
    "print(jiangs.keys()) # Updated\n",
    "print(names) # Updated\n",
    "print(names_list) # Not updated"
   ]
  },
  {
   "cell_type": "code",
   "execution_count": 21,
   "metadata": {},
   "outputs": [
    {
     "name": "stdout",
     "output_type": "stream",
     "text": [
      "dict_keys(['katie', 'chandler', 'anita', 'larry', 'goose'])\n"
     ]
    },
    {
     "ename": "TypeError",
     "evalue": "'dict_keys' object is not subscriptable",
     "output_type": "error",
     "traceback": [
      "\u001b[0;31m---------------------------------------------------------------------------\u001b[0m",
      "\u001b[0;31mTypeError\u001b[0m                                 Traceback (most recent call last)",
      "\u001b[0;32m<ipython-input-21-1f319aeb835f>\u001b[0m in \u001b[0;36m<module>\u001b[0;34m\u001b[0m\n\u001b[1;32m      1\u001b[0m \u001b[0;31m# View objects don't hold onto values.\u001b[0m\u001b[0;34m\u001b[0m\u001b[0;34m\u001b[0m\u001b[0;34m\u001b[0m\u001b[0m\n\u001b[1;32m      2\u001b[0m \u001b[0mprint\u001b[0m\u001b[0;34m(\u001b[0m\u001b[0mnames\u001b[0m\u001b[0;34m)\u001b[0m\u001b[0;34m\u001b[0m\u001b[0;34m\u001b[0m\u001b[0m\n\u001b[0;32m----> 3\u001b[0;31m \u001b[0mnames\u001b[0m\u001b[0;34m[\u001b[0m\u001b[0;34m'katie'\u001b[0m\u001b[0;34m]\u001b[0m \u001b[0;31m# Error\u001b[0m\u001b[0;34m\u001b[0m\u001b[0;34m\u001b[0m\u001b[0m\n\u001b[0m",
      "\u001b[0;31mTypeError\u001b[0m: 'dict_keys' object is not subscriptable"
     ]
    }
   ],
   "source": [
    "# View objects don't hold onto values.\n",
    "print(names)\n",
    "names['katie'] # Error"
   ]
  },
  {
   "cell_type": "code",
   "execution_count": 23,
   "metadata": {},
   "outputs": [
    {
     "data": {
      "text/plain": [
       "dict_items([('katie', 12), ('chandler', 16), ('anita', 50), ('larry', 53), ('goose', 0)])"
      ]
     },
     "execution_count": 23,
     "metadata": {},
     "output_type": "execute_result"
    }
   ],
   "source": [
    "jiangs.items() # Tuples"
   ]
  },
  {
   "cell_type": "markdown",
   "metadata": {},
   "source": [
    "## Application: Using a dictionary as a collection of counters."
   ]
  },
  {
   "cell_type": "code",
   "execution_count": 24,
   "metadata": {},
   "outputs": [
    {
     "data": {
      "text/plain": [
       "{'J': 1, 'i': 1, 'a': 1, 'n': 1, 'g': 1}"
      ]
     },
     "execution_count": 24,
     "metadata": {},
     "output_type": "execute_result"
    }
   ],
   "source": [
    "def countLetters(string):\n",
    "    d = {}\n",
    "    for char in string:\n",
    "        if char not in d:\n",
    "            d[char] = 1\n",
    "        else:\n",
    "            d[char] += 1\n",
    "    return d\n",
    "\n",
    "countLetters('Jiang')"
   ]
  },
  {
   "cell_type": "code",
   "execution_count": 28,
   "metadata": {},
   "outputs": [
    {
     "data": {
      "text/plain": [
       "27"
      ]
     },
     "execution_count": 28,
     "metadata": {},
     "output_type": "execute_result"
    }
   ],
   "source": [
    "len(countLetters('the quick brown fox jumps over the lazy dog'))"
   ]
  },
  {
   "cell_type": "markdown",
   "metadata": {},
   "source": [
    "## Iterating over a dictionary\n",
    "* **`dict.sorted()`** returns a dictionary with its items sorted in alphabetical order"
   ]
  },
  {
   "cell_type": "code",
   "execution_count": 33,
   "metadata": {},
   "outputs": [
    {
     "name": "stdout",
     "output_type": "stream",
     "text": [
      "katie\n",
      "chandler\n",
      "anita\n",
      "larry\n",
      "goose\n"
     ]
    }
   ],
   "source": [
    "for key in jiangs:\n",
    "    print(key)\n",
    "# See how the `in` operator in the for loop works with keys, not values or items."
   ]
  },
  {
   "cell_type": "markdown",
   "metadata": {},
   "source": [
    "## Reverse lookup search"
   ]
  },
  {
   "cell_type": "code",
   "execution_count": 36,
   "metadata": {},
   "outputs": [
    {
     "data": {
      "text/plain": [
       "'chandler'"
      ]
     },
     "execution_count": 36,
     "metadata": {},
     "output_type": "execute_result"
    }
   ],
   "source": [
    "def reverse_lookup(dictionary, value):\n",
    "    for key in dictionary:\n",
    "        if dictionary[key] == value:\n",
    "            return key\n",
    "    raise LookupError('Value does not appear in dictionary')\n",
    "        \n",
    "reverse_lookup(jiangs, 16)"
   ]
  },
  {
   "cell_type": "markdown",
   "metadata": {},
   "source": [
    "## raise\n",
    "\n",
    "The `raise` statement returns an error message. See example above."
   ]
  },
  {
   "cell_type": "markdown",
   "metadata": {},
   "source": [
    "## Dictionaries and lists\n",
    "\n",
    "Lists can appear as values in a dictionary.\n",
    "\n",
    "Lists cannot appear as keys in a dictionary."
   ]
  },
  {
   "cell_type": "code",
   "execution_count": 38,
   "metadata": {},
   "outputs": [
    {
     "data": {
      "text/plain": [
       "{'katie': 12,\n",
       " 'chandler': 16,\n",
       " 'anita': 50,\n",
       " 'larry': 53,\n",
       " 'goose': ['cutest', 'puppy']}"
      ]
     },
     "execution_count": 38,
     "metadata": {},
     "output_type": "execute_result"
    }
   ],
   "source": [
    "jiangs['goose'] = ['cutest','puppy']\n",
    "jiangs"
   ]
  },
  {
   "cell_type": "code",
   "execution_count": 39,
   "metadata": {},
   "outputs": [
    {
     "ename": "TypeError",
     "evalue": "unhashable type: 'list'",
     "output_type": "error",
     "traceback": [
      "\u001b[0;31m---------------------------------------------------------------------------\u001b[0m",
      "\u001b[0;31mTypeError\u001b[0m                                 Traceback (most recent call last)",
      "\u001b[0;32m<ipython-input-39-41a58562a230>\u001b[0m in \u001b[0;36m<module>\u001b[0;34m\u001b[0m\n\u001b[0;32m----> 1\u001b[0;31m \u001b[0mjiangs\u001b[0m\u001b[0;34m[\u001b[0m\u001b[0;34m[\u001b[0m\u001b[0;34m'kids'\u001b[0m\u001b[0;34m,\u001b[0m \u001b[0;34m'parents'\u001b[0m\u001b[0;34m]\u001b[0m\u001b[0;34m]\u001b[0m \u001b[0;34m=\u001b[0m \u001b[0;36m100\u001b[0m \u001b[0;31m# Error\u001b[0m\u001b[0;34m\u001b[0m\u001b[0;34m\u001b[0m\u001b[0m\n\u001b[0m",
      "\u001b[0;31mTypeError\u001b[0m: unhashable type: 'list'"
     ]
    }
   ],
   "source": [
    "jiangs[['kids', 'parents']] = 100 # Error"
   ]
  },
  {
   "cell_type": "code",
   "execution_count": null,
   "metadata": {},
   "outputs": [],
   "source": []
  }
 ],
 "metadata": {
  "kernelspec": {
   "display_name": "Python 3",
   "language": "python",
   "name": "python3"
  },
  "language_info": {
   "codemirror_mode": {
    "name": "ipython",
    "version": 3
   },
   "file_extension": ".py",
   "mimetype": "text/x-python",
   "name": "python",
   "nbconvert_exporter": "python",
   "pygments_lexer": "ipython3",
   "version": "3.7.3"
  }
 },
 "nbformat": 4,
 "nbformat_minor": 2
}

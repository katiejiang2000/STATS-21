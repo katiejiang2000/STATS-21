{
 "cells": [
  {
   "cell_type": "markdown",
   "metadata": {},
   "source": [
    "Quiz answers\n",
    "1. E as in elephant\n",
    "2. A as in apple"
   ]
  },
  {
   "cell_type": "markdown",
   "metadata": {},
   "source": [
    "# Lecture 7: Iteration and Strings\n",
    "Think Python: Ch. 7, 8"
   ]
  },
  {
   "cell_type": "markdown",
   "metadata": {},
   "source": [
    "# Reassignment and Object ID\n",
    "* You can assign values that overwrite a variable."
   ]
  },
  {
   "cell_type": "code",
   "execution_count": 1,
   "metadata": {},
   "outputs": [
    {
     "name": "stdout",
     "output_type": "stream",
     "text": [
      "10000\n",
      "3\n"
     ]
    }
   ],
   "source": [
    "# Be careful with shallow/deep copies.\n",
    "\n",
    "a = 3\n",
    "b = a\n",
    "\n",
    "a = 10000 # We're modifying a, but these changes don't affect b.\n",
    "\n",
    "print(a)\n",
    "print(b)"
   ]
  },
  {
   "cell_type": "markdown",
   "metadata": {},
   "source": [
    "## Mutable and Immutable Objects\n",
    "\n",
    "* **Mutable**: value can be changed\n",
    "    * Lists, dictionaries, etc.\n",
    "* **Immutable**: value cannot be changed\n",
    "    * Bools, ints, floats, str, tuples\n",
    "    \n",
    "Each unique object in Python gets an ID number.\n",
    "\n",
    "**id(x)** returns the ID number of x."
   ]
  },
  {
   "cell_type": "code",
   "execution_count": 2,
   "metadata": {},
   "outputs": [
    {
     "data": {
      "text/plain": [
       "4486612384"
      ]
     },
     "execution_count": 2,
     "metadata": {},
     "output_type": "execute_result"
    }
   ],
   "source": [
    "a = 1 # An int is an immutable object.\n",
    "id(a)"
   ]
  },
  {
   "cell_type": "code",
   "execution_count": 3,
   "metadata": {},
   "outputs": [
    {
     "data": {
      "text/plain": [
       "4486615552"
      ]
     },
     "execution_count": 3,
     "metadata": {},
     "output_type": "execute_result"
    }
   ],
   "source": [
    "a = 100\n",
    "id(a) # It's different. a is referring to a different object now."
   ]
  },
  {
   "cell_type": "markdown",
   "metadata": {},
   "source": [
    "Once an immutable object loses its variable handle (in the example above, the object '1' lost its 'a' label), then Python might delete that object just to free up storage. This is called **garbage collection**. Python takes care of memory management for you; you don't have to do it."
   ]
  },
  {
   "cell_type": "code",
   "execution_count": 4,
   "metadata": {},
   "outputs": [
    {
     "name": "stdout",
     "output_type": "stream",
     "text": [
      "4486612384\n",
      "4486612384\n"
     ]
    }
   ],
   "source": [
    "a = 1\n",
    "b = 1\n",
    "print(id(a))\n",
    "print(id(b)) # a and b refer to the same object, 1"
   ]
  },
  {
   "cell_type": "code",
   "execution_count": 6,
   "metadata": {},
   "outputs": [
    {
     "name": "stdout",
     "output_type": "stream",
     "text": [
      "4489370624\n",
      "4489370624\n"
     ]
    }
   ],
   "source": [
    "foo = \"abc\" # We're going to extract 'a' out of 'abc'\n",
    "\n",
    "print(id(\"a\"))\n",
    "print(id(foo[0]))"
   ]
  },
  {
   "cell_type": "markdown",
   "metadata": {},
   "source": [
    "Mutable objects can be modified."
   ]
  },
  {
   "cell_type": "code",
   "execution_count": 8,
   "metadata": {},
   "outputs": [
    {
     "name": "stdout",
     "output_type": "stream",
     "text": [
      "4528164680\n",
      "4528169352\n"
     ]
    }
   ],
   "source": [
    "# This is a counterexample: where we overwrite a list with another list.\n",
    "\n",
    "a = ['katie', 'chandler']\n",
    "print(id(a))\n",
    "\n",
    "a = ['katie', 'chandler', 'mariah']\n",
    "print(id(a)) # They're different, because we used an overwrite assignment."
   ]
  },
  {
   "cell_type": "code",
   "execution_count": 11,
   "metadata": {},
   "outputs": [
    {
     "name": "stdout",
     "output_type": "stream",
     "text": [
      "4524928072\n",
      "4524928072\n"
     ]
    }
   ],
   "source": [
    "# If we want to actually modify the list itself, we can use .append()\n",
    "\n",
    "a = ['katie', 'chandler']\n",
    "print(id(a))\n",
    "\n",
    "a.append('mariah') # Now a = ['katie', 'chandler', 'mariah']\n",
    "print(id(a)) # It's the same!"
   ]
  },
  {
   "cell_type": "markdown",
   "metadata": {},
   "source": [
    "## Updating Values"
   ]
  },
  {
   "cell_type": "code",
   "execution_count": 13,
   "metadata": {},
   "outputs": [
    {
     "name": "stdout",
     "output_type": "stream",
     "text": [
      "4486612384\n",
      "4486612704\n"
     ]
    }
   ],
   "source": [
    "x = 1\n",
    "print(id(x))\n",
    "\n",
    "x = x + 10\n",
    "print(id(x)) # They're different"
   ]
  },
  {
   "cell_type": "markdown",
   "metadata": {},
   "source": [
    "# **`while`** Loops\n",
    "\n",
    "`while boolean expression:\n",
    "    body`\n",
    "    \n",
    "You can use **`break`** to exit the loop."
   ]
  },
  {
   "cell_type": "code",
   "execution_count": 14,
   "metadata": {},
   "outputs": [
    {
     "name": "stdout",
     "output_type": "stream",
     "text": [
      "1\n",
      "2\n",
      "3\n",
      "4\n",
      "5\n",
      "6\n",
      "7\n",
      "8\n",
      "9\n"
     ]
    }
   ],
   "source": [
    "# break example\n",
    "\n",
    "n = 1\n",
    "while True:\n",
    "    print(n)\n",
    "    n = n + 1\n",
    "    if n == 10:\n",
    "        break"
   ]
  },
  {
   "cell_type": "markdown",
   "metadata": {},
   "source": [
    "# Strings\n",
    "\n",
    "A string is a sequence."
   ]
  },
  {
   "cell_type": "markdown",
   "metadata": {},
   "source": [
    "## Subsetting strings and strings as iterables\n",
    "\n",
    "You can subset and slice a string, just like a list."
   ]
  },
  {
   "cell_type": "code",
   "execution_count": 16,
   "metadata": {},
   "outputs": [
    {
     "data": {
      "text/plain": [
       "'ab'"
      ]
     },
     "execution_count": 16,
     "metadata": {},
     "output_type": "execute_result"
    }
   ],
   "source": [
    "s = 'abc'\n",
    "s[0:2]"
   ]
  },
  {
   "cell_type": "code",
   "execution_count": 20,
   "metadata": {},
   "outputs": [
    {
     "name": "stdout",
     "output_type": "stream",
     "text": [
      "a\n",
      "b\n"
     ]
    }
   ],
   "source": [
    "for x in s[0:2]:\n",
    "    print(x)"
   ]
  },
  {
   "cell_type": "markdown",
   "metadata": {},
   "source": [
    "## Strings are immutable\n",
    "\n",
    "When you use a method on a string, it doesn't modify the string itself. It simply returns a new string object."
   ]
  },
  {
   "cell_type": "code",
   "execution_count": 21,
   "metadata": {},
   "outputs": [
    {
     "ename": "TypeError",
     "evalue": "'str' object does not support item assignment",
     "output_type": "error",
     "traceback": [
      "\u001b[0;31m---------------------------------------------------------------------------\u001b[0m",
      "\u001b[0;31mTypeError\u001b[0m                                 Traceback (most recent call last)",
      "\u001b[0;32m<ipython-input-21-fef985e280de>\u001b[0m in \u001b[0;36m<module>\u001b[0;34m\u001b[0m\n\u001b[1;32m      1\u001b[0m \u001b[0ms\u001b[0m \u001b[0;34m=\u001b[0m \u001b[0;34m'abc'\u001b[0m\u001b[0;34m\u001b[0m\u001b[0;34m\u001b[0m\u001b[0m\n\u001b[0;32m----> 2\u001b[0;31m \u001b[0ms\u001b[0m\u001b[0;34m[\u001b[0m\u001b[0;36m0\u001b[0m\u001b[0;34m]\u001b[0m \u001b[0;34m=\u001b[0m \u001b[0;34m'k'\u001b[0m \u001b[0;31m# To get s = 'kbc'\u001b[0m\u001b[0;34m\u001b[0m\u001b[0;34m\u001b[0m\u001b[0m\n\u001b[0m",
      "\u001b[0;31mTypeError\u001b[0m: 'str' object does not support item assignment"
     ]
    }
   ],
   "source": [
    "s = 'abc'\n",
    "s[0] = 'k' # To get s = 'kbc' ... but we get an error message."
   ]
  },
  {
   "cell_type": "markdown",
   "metadata": {},
   "source": [
    "## String methods\n",
    "\n",
    "* **`.upper()`**\n",
    "* **`.capitalize()`**\n",
    "* **`.title()`**\n",
    "* **`.lower()`**\n",
    "\n",
    "\n",
    "* **`.count(x)`** returns the number of times x appears in the string.\n",
    "* **`.index(x)`** returns the index of the first instance of x in the string.\n",
    "    * If x is not found, returns an error message.\n",
    "* **`.find(x)`** returns the index of the first instance of x in the string.\n",
    "    * If x is not found, returns a `-1`.\n",
    "* **`.strip()`** removes white space.\n",
    "* **`.split()`** splits your string at the whitespaces, and returns those substrings as a list.\n",
    "    * **`.split(x)`** does the same thing but x tells it where to split at.\n",
    "* **`.splitlines()`** splits your string at the line breaks, and returns those substrings as a list.\n",
    "* **`.isalpha()`** returns a bool that tells you whether or not the string is only alphabetical characters, or if it includes mixed characters (numbers, symbols, etc.).\n",
    "\n",
    "\n",
    "* Triple quotes **`''' '''`** allow you to create multi-line strings.\n",
    "* **`in`** returns a boolean value if the lefthand string is a substring of the righthand string.\n",
    "* **`<`** and **`>`** to compare strings by alphabetical order.\n",
    "    * Numbers -> uppercase -> lowercase"
   ]
  },
  {
   "cell_type": "code",
   "execution_count": 52,
   "metadata": {},
   "outputs": [
    {
     "name": "stdout",
     "output_type": "stream",
     "text": [
      "I go to UCLA\n",
      "\n",
      "\n",
      "I GO TO UCLA\n",
      "I go to ucla\n",
      "I Go To Ucla\n",
      "i go to ucla\n",
      "\n",
      "\n",
      "I go to UCLA\n"
     ]
    }
   ],
   "source": [
    "s = 'I go to UCLA'\n",
    "print(s)\n",
    "\n",
    "print('\\n')\n",
    "\n",
    "print(s.upper())\n",
    "print(s.capitalize())\n",
    "print(s.title())\n",
    "print(s.lower())\n",
    "\n",
    "print('\\n')\n",
    "\n",
    "# Even after all those ^ methods, s is still the same.\n",
    "print(s)"
   ]
  },
  {
   "cell_type": "code",
   "execution_count": 36,
   "metadata": {},
   "outputs": [
    {
     "name": "stdout",
     "output_type": "stream",
     "text": [
      "Dear friend,\n",
      "Hi.\n",
      "Love,\n",
      "Katie \n"
     ]
    }
   ],
   "source": [
    "# Create multi-line strings with triple quotes.\n",
    "\n",
    "paragraph = '''Dear friend,\n",
    "Hi.\n",
    "Love,\n",
    "Katie '''\n",
    "\n",
    "print(paragraph)"
   ]
  },
  {
   "cell_type": "code",
   "execution_count": 28,
   "metadata": {},
   "outputs": [
    {
     "name": "stdout",
     "output_type": "stream",
     "text": [
      "['My', 'name', 'is', 'Katie.']\n"
     ]
    }
   ],
   "source": [
    "s = \"My name is Katie.\"\n",
    "print(s.split()) # Split on whitespaces"
   ]
  },
  {
   "cell_type": "code",
   "execution_count": 29,
   "metadata": {},
   "outputs": [
    {
     "name": "stdout",
     "output_type": "stream",
     "text": [
      "['Hi', ' how are ya?']\n"
     ]
    }
   ],
   "source": [
    "s = \"Hi, how are ya?\"\n",
    "print(s.split(\",\")) # Split on the commas"
   ]
  },
  {
   "cell_type": "code",
   "execution_count": 40,
   "metadata": {},
   "outputs": [
    {
     "data": {
      "text/plain": [
       "['Dear friend,',\n",
       " \"I'm both happy and sad and I'm still trying to figure out how that could be.\",\n",
       " 'Love,',\n",
       " 'Charlie']"
      ]
     },
     "execution_count": 40,
     "metadata": {},
     "output_type": "execute_result"
    }
   ],
   "source": [
    "s = '''Dear friend,\n",
    "I'm both happy and sad and I'm still trying to figure out how that could be.\n",
    "Love,\n",
    "Charlie\n",
    "'''\n",
    "\n",
    "s.splitlines() # Split on the line breaks."
   ]
  },
  {
   "cell_type": "code",
   "execution_count": 32,
   "metadata": {},
   "outputs": [
    {
     "name": "stdout",
     "output_type": "stream",
     "text": [
      "1\n",
      "2\n",
      "3\n",
      "4\n",
      "5\n"
     ]
    }
   ],
   "source": [
    "# Converting a string of numbers into actual numbers.\n",
    "\n",
    "num_string = \"1,2,3,4,5\"\n",
    "s = num_string.split(\",\")\n",
    "\n",
    "for x in s:\n",
    "    x = int(x)\n",
    "    print(x)"
   ]
  },
  {
   "cell_type": "code",
   "execution_count": 34,
   "metadata": {},
   "outputs": [
    {
     "name": "stdout",
     "output_type": "stream",
     "text": [
      "False\n",
      "True\n"
     ]
    }
   ],
   "source": [
    "s = \"123abc\"\n",
    "print(s.isalpha())\n",
    "\n",
    "s = \"abc\"\n",
    "print(s.isalpha())"
   ]
  },
  {
   "cell_type": "code",
   "execution_count": 44,
   "metadata": {},
   "outputs": [
    {
     "name": "stdout",
     "output_type": "stream",
     "text": [
      "-1\n"
     ]
    },
    {
     "ename": "ValueError",
     "evalue": "substring not found",
     "output_type": "error",
     "traceback": [
      "\u001b[0;31m---------------------------------------------------------------------------\u001b[0m",
      "\u001b[0;31mValueError\u001b[0m                                Traceback (most recent call last)",
      "\u001b[0;32m<ipython-input-44-4836fd9af5b2>\u001b[0m in \u001b[0;36m<module>\u001b[0;34m\u001b[0m\n\u001b[1;32m      1\u001b[0m \u001b[0ms\u001b[0m \u001b[0;34m=\u001b[0m \u001b[0;34m\"UCLAUCLA\"\u001b[0m\u001b[0;34m\u001b[0m\u001b[0;34m\u001b[0m\u001b[0m\n\u001b[1;32m      2\u001b[0m \u001b[0mprint\u001b[0m\u001b[0;34m(\u001b[0m\u001b[0ms\u001b[0m\u001b[0;34m.\u001b[0m\u001b[0mfind\u001b[0m\u001b[0;34m(\u001b[0m\u001b[0;34m\"k\"\u001b[0m\u001b[0;34m)\u001b[0m\u001b[0;34m)\u001b[0m \u001b[0;31m# Not found: -1\u001b[0m\u001b[0;34m\u001b[0m\u001b[0;34m\u001b[0m\u001b[0m\n\u001b[0;32m----> 3\u001b[0;31m \u001b[0mprint\u001b[0m\u001b[0;34m(\u001b[0m\u001b[0ms\u001b[0m\u001b[0;34m.\u001b[0m\u001b[0mindex\u001b[0m\u001b[0;34m(\u001b[0m\u001b[0;34m\"k\"\u001b[0m\u001b[0;34m)\u001b[0m\u001b[0;34m)\u001b[0m \u001b[0;31m# Not found: error message\u001b[0m\u001b[0;34m\u001b[0m\u001b[0;34m\u001b[0m\u001b[0m\n\u001b[0m",
      "\u001b[0;31mValueError\u001b[0m: substring not found"
     ]
    }
   ],
   "source": [
    "s = \"UCLAUCLA\"\n",
    "print(s.find(\"k\")) # Not found: -1\n",
    "print(s.index(\"k\")) # Not found: error message"
   ]
  },
  {
   "cell_type": "code",
   "execution_count": 45,
   "metadata": {},
   "outputs": [
    {
     "data": {
      "text/plain": [
       "False"
      ]
     },
     "execution_count": 45,
     "metadata": {},
     "output_type": "execute_result"
    }
   ],
   "source": [
    "\"k\" in \"UCLAUCLA\""
   ]
  },
  {
   "cell_type": "code",
   "execution_count": 46,
   "metadata": {},
   "outputs": [
    {
     "data": {
      "text/plain": [
       "False"
      ]
     },
     "execution_count": 46,
     "metadata": {},
     "output_type": "execute_result"
    }
   ],
   "source": [
    "\"i\" in \"team\""
   ]
  },
  {
   "cell_type": "code",
   "execution_count": 47,
   "metadata": {},
   "outputs": [
    {
     "data": {
      "text/plain": [
       "True"
      ]
     },
     "execution_count": 47,
     "metadata": {},
     "output_type": "execute_result"
    }
   ],
   "source": [
    "'a' < 'k'"
   ]
  },
  {
   "cell_type": "code",
   "execution_count": 48,
   "metadata": {},
   "outputs": [
    {
     "data": {
      "text/plain": [
       "True"
      ]
     },
     "execution_count": 48,
     "metadata": {},
     "output_type": "execute_result"
    }
   ],
   "source": [
    "'alpha' < 'katie'"
   ]
  },
  {
   "cell_type": "code",
   "execution_count": 50,
   "metadata": {},
   "outputs": [
    {
     "data": {
      "text/plain": [
       "True"
      ]
     },
     "execution_count": 50,
     "metadata": {},
     "output_type": "execute_result"
    }
   ],
   "source": [
    "'36' < 'alpha'"
   ]
  },
  {
   "cell_type": "code",
   "execution_count": 51,
   "metadata": {},
   "outputs": [
    {
     "data": {
      "text/plain": [
       "True"
      ]
     },
     "execution_count": 51,
     "metadata": {},
     "output_type": "execute_result"
    }
   ],
   "source": [
    "'Alpha' < 'alpha'"
   ]
  }
 ],
 "metadata": {
  "kernelspec": {
   "display_name": "Python 3",
   "language": "python",
   "name": "python3"
  },
  "language_info": {
   "codemirror_mode": {
    "name": "ipython",
    "version": 3
   },
   "file_extension": ".py",
   "mimetype": "text/x-python",
   "name": "python",
   "nbconvert_exporter": "python",
   "pygments_lexer": "ipython3",
   "version": "3.7.3"
  }
 },
 "nbformat": 4,
 "nbformat_minor": 2
}

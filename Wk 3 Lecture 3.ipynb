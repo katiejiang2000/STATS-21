{
 "cells": [
  {
   "cell_type": "markdown",
   "metadata": {},
   "source": [
    "Quiz answers:\n",
    "1. a as in apple\n",
    "2. d as in dog"
   ]
  },
  {
   "cell_type": "markdown",
   "metadata": {},
   "source": [
    "# List Methods\n",
    "Generally, they modify the list itself. It's a *reference* to the list, not a copy.\n",
    "* **`list.copy()`** returns a shallow copy of the list.\n",
    "* **`list.append(x)`** appends `x` to the list.\n",
    "    * Be careful, the entire object x is added as the last element of the list. So if you try to append multiple objects, it'll go in as a list as a single element.\n",
    "* **`list = list + [x]`** concatentates `x` to the list.\n",
    "* **`list.insert(i, x)`** inserts `x` at position `i`.\n",
    "    * You can only insert one object at a time.\n",
    "* **`list.extend(x)`** inserts `x` at the end of the list.\n",
    "    * `x` is a list object, and its elements will be added as single elements. So it's the opposite of what happens in `list.append(x)`.\n",
    "* **`list[i:j] = x`** reassigns the elements at `i:j` as x. An overwriting action.\n",
    "    * You can do multiple elements at a time with this slicing method.\n",
    "* **`list.remove(x)`** removes the first item from the list whose value is `x`.\n",
    "* **`list.pop([i])`** removes the element at position i and returns that element itself.\n",
    "    * No argument -> it'll remove the last element by default, and return it.\n",
    "* **`list.clear()`** removes all the items from the list.\n",
    "    * Equivalent to `del list[:]`.\n",
    "* **`list.index(x)`** returns the index of the first element whose value is `x`.\n",
    "* **`list.count(x)`** returns the number of times x appears in the list.\n",
    "* **`list.reverse()`** reverses the list.\n",
    "* **`list.sort()`** sorts the list.\n",
    "    * Can't sort floats or strings.\n",
    "* **`sorted(list)`** returns a sorted copy of the list.\n",
    "    \n",
    "We'll probably use `list = list + [x]` and `list.extend()` the most."
   ]
  },
  {
   "cell_type": "code",
   "execution_count": 1,
   "metadata": {},
   "outputs": [
    {
     "name": "stdout",
     "output_type": "stream",
     "text": [
      "foo: [1, 2, 3]\n",
      "foocopy: [99, 2, 3]\n"
     ]
    }
   ],
   "source": [
    "# list.copy() and shallow copying\n",
    "\n",
    "foo = [1,2,3]\n",
    "foocopy = foo.copy()\n",
    "foocopy[0] = 99 # only changing foocopy, not foo itself.\n",
    "\n",
    "# Show foo and foocopy\n",
    "print('foo: ' + str(foo))\n",
    "print('foocopy: ' + str(foocopy))"
   ]
  },
  {
   "cell_type": "code",
   "execution_count": 2,
   "metadata": {},
   "outputs": [
    {
     "name": "stdout",
     "output_type": "stream",
     "text": [
      "[1, 2, 3, [4, 5, 6], 7, 8, 9]\n"
     ]
    }
   ],
   "source": [
    "# list.append(x) VERSUS list = list + [x]\n",
    "\n",
    "oof = [1,2,3]\n",
    "oof.append([4, 5, 6]) # notice how the argument is a list object\n",
    "oof = oof + [7, 8, 9]\n",
    "\n",
    "# show the changes\n",
    "print(oof) # notice how with list.append(), it adds a list within a list\n",
    "           # with list = list + [x], it's concatenation."
   ]
  },
  {
   "cell_type": "markdown",
   "metadata": {},
   "source": [
    "# Coding Strategy: Incremental Development\n",
    "\n",
    "Don't try to write all your code all at once. Develop it incrementally.\n",
    "\n",
    "Start with the most basic version, and add a couple of lines every time and try out a test case. Then move to the next piece of code.\n",
    "\n",
    "* **Scaffolding**: Put print statements everywhere, and at every stage.\n",
    "* Return intermediate values.\n",
    "* Makes it more readable. You shouldn't try to make your code in as few lines as possible. Readability is a priority."
   ]
  },
  {
   "cell_type": "markdown",
   "metadata": {},
   "source": [
    "# Coding Strategy: Composition\n",
    "\n",
    "Write functions that call other functions. Break the problem up into pieces.\n",
    "\n",
    "Example:\n",
    "\n",
    "` def printSuccessMessage():\n",
    "    print('Success!')\n",
    "def myGame():\n",
    "    ...\n",
    "    if x > 0:\n",
    "        printSuccessMessage()\n",
    "`"
   ]
  },
  {
   "cell_type": "markdown",
   "metadata": {},
   "source": [
    "# Useful Idea: Boolean Functions\n",
    "\n",
    "Convention says that these functions should be written as a yes/no question, like `is_even` and `is_blond`."
   ]
  },
  {
   "cell_type": "code",
   "execution_count": 4,
   "metadata": {},
   "outputs": [
    {
     "name": "stdout",
     "output_type": "stream",
     "text": [
      "True\n",
      "True\n"
     ]
    }
   ],
   "source": [
    "# Example\n",
    "def is_even(x):\n",
    "    if x % 2 == 0:\n",
    "        return True\n",
    "    else:\n",
    "        return False\n",
    "\n",
    "# Improved version (more concise)\n",
    "def is_even_alt(x):\n",
    "    return x % 2 == 0\n",
    "\n",
    "# Test case\n",
    "print(is_even(10))\n",
    "print(is_even_alt(10))"
   ]
  },
  {
   "cell_type": "code",
   "execution_count": 6,
   "metadata": {},
   "outputs": [
    {
     "name": "stdout",
     "output_type": "stream",
     "text": [
      "10 is even!\n"
     ]
    }
   ],
   "source": [
    "# You can implement boolean functions to your convenience\n",
    "x = 10\n",
    "if is_even(x): # you're calling the is_even() function in this if statement\n",
    "    print(str(x) + ' is even!')"
   ]
  },
  {
   "cell_type": "markdown",
   "metadata": {},
   "source": [
    "# Example: Factorial Function\n",
    "\n",
    "Develop it incrementally.\n",
    "\n",
    "1. Set up the function.\n",
    "2. Write in the base case. `if n == 0: return 1`\n",
    "3. Write the rest.\n",
    "4. Debug."
   ]
  },
  {
   "cell_type": "markdown",
   "metadata": {},
   "source": [
    "# Debugging Recursive Code\n",
    "\n",
    "Insert print statements everywhere.\n",
    "\n",
    "* Put a print statement at the beginning of the function body, to signal the start of the function call.\n",
    "* Put a print statement for all the return statements."
   ]
  },
  {
   "cell_type": "markdown",
   "metadata": {},
   "source": [
    "# Checking for input types\n",
    "\n",
    "* **`isinstance(x, type)`** checks if x is of a particular type. Returns a bool."
   ]
  },
  {
   "cell_type": "code",
   "execution_count": 7,
   "metadata": {},
   "outputs": [
    {
     "data": {
      "text/plain": [
       "True"
      ]
     },
     "execution_count": 7,
     "metadata": {},
     "output_type": "execute_result"
    }
   ],
   "source": [
    "isinstance(5, int)"
   ]
  },
  {
   "cell_type": "code",
   "execution_count": 8,
   "metadata": {},
   "outputs": [
    {
     "data": {
      "text/plain": [
       "True"
      ]
     },
     "execution_count": 8,
     "metadata": {},
     "output_type": "execute_result"
    }
   ],
   "source": [
    "isinstance(False, bool)"
   ]
  },
  {
   "cell_type": "code",
   "execution_count": 10,
   "metadata": {},
   "outputs": [
    {
     "data": {
      "text/plain": [
       "True"
      ]
     },
     "execution_count": 10,
     "metadata": {},
     "output_type": "execute_result"
    }
   ],
   "source": [
    "isinstance('hi', str)"
   ]
  }
 ],
 "metadata": {
  "kernelspec": {
   "display_name": "Python 3",
   "language": "python",
   "name": "python3"
  },
  "language_info": {
   "codemirror_mode": {
    "name": "ipython",
    "version": 3
   },
   "file_extension": ".py",
   "mimetype": "text/x-python",
   "name": "python",
   "nbconvert_exporter": "python",
   "pygments_lexer": "ipython3",
   "version": "3.7.3"
  }
 },
 "nbformat": 4,
 "nbformat_minor": 2
}
